{
 "cells": [
  {
   "cell_type": "code",
   "execution_count": null,
   "id": "f69d7474-ca5a-41a2-93de-5924ff4ec53a",
   "metadata": {},
   "outputs": [],
   "source": [
    "# Импорт необходимых библиотек\n",
    "import pandas as pd\n",
    "import numpy as np\n",
    "import matplotlib.pyplot as plt\n",
    "import seaborn as sns\n",
    "\n",
    "#Загрузка данных\n",
    "df = pd.read_csv('data/your_dataset.csv')\n",
    "\n",
    "#Базовое исследованние данных\n",
    "df.head()\n",
    "df.info()\n",
    "df.desribe()\n",
    "df.shape()\n",
    "\n",
    "plt.figure(figsize=(10, 6))\n",
    "\n",
    "plt.show"
   ]
  }
 ],
 "metadata": {
  "kernelspec": {
   "display_name": "Python 3 (ipykernel)",
   "language": "python",
   "name": "python3"
  },
  "language_info": {
   "codemirror_mode": {
    "name": "ipython",
    "version": 3
   },
   "file_extension": ".py",
   "mimetype": "text/x-python",
   "name": "python",
   "nbconvert_exporter": "python",
   "pygments_lexer": "ipython3",
   "version": "3.11.14"
  }
 },
 "nbformat": 4,
 "nbformat_minor": 5
}
